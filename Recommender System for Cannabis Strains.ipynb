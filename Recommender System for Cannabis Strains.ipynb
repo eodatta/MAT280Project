{
 "cells": [
  {
   "cell_type": "markdown",
   "id": "0347d9f2",
   "metadata": {},
   "source": [
    "## Recommender System for Cannabis Strains\n",
    "Project goals: build a bag-of-words based recommender system for recommending cannabis strains similar to the one inputted by the user. This will help with accessibility issues for medical marijuana patients who may not have the prescribed strain available to them locally."
   ]
  },
  {
   "cell_type": "code",
   "execution_count": 9,
   "id": "ad69dba6",
   "metadata": {},
   "outputs": [
    {
     "name": "stderr",
     "output_type": "stream",
     "text": [
      "[nltk_data] Downloading package stopwords to /Users/esha/nltk_data...\n",
      "[nltk_data]   Package stopwords is already up-to-date!\n",
      "[nltk_data] Downloading package punkt to /Users/esha/nltk_data...\n",
      "[nltk_data]   Package punkt is already up-to-date!\n"
     ]
    },
    {
     "data": {
      "text/plain": [
       "True"
      ]
     },
     "execution_count": 9,
     "metadata": {},
     "output_type": "execute_result"
    }
   ],
   "source": [
    "import pandas as pd\n",
    "from rake_nltk import Rake\n",
    "import numpy as np\n",
    "from sklearn.metrics.pairwise import cosine_similarity\n",
    "from sklearn.feature_extraction.text import CountVectorizer\n",
    "from pandas import DataFrame\n",
    "\n",
    "#important nltk packages\n",
    "import nltk\n",
    "nltk.download('stopwords')\n",
    "nltk.download('punkt')"
   ]
  },
  {
   "cell_type": "markdown",
   "id": "22ec2a2f",
   "metadata": {},
   "source": [
    "### Data Import and Cleanup"
   ]
  },
  {
   "cell_type": "code",
   "execution_count": 2,
   "id": "76776264",
   "metadata": {},
   "outputs": [
    {
     "name": "stdout",
     "output_type": "stream",
     "text": [
      "['Strain', 'Type', 'Rating', 'Effect1', 'Effect2', 'Effect3', 'Effect4', 'Effect5', 'Flavor1', 'Flavor2', 'Flavor3', 'Flavor4', 'Description']\n"
     ]
    },
    {
     "data": {
      "text/html": [
       "<div>\n",
       "<style scoped>\n",
       "    .dataframe tbody tr th:only-of-type {\n",
       "        vertical-align: middle;\n",
       "    }\n",
       "\n",
       "    .dataframe tbody tr th {\n",
       "        vertical-align: top;\n",
       "    }\n",
       "\n",
       "    .dataframe thead th {\n",
       "        text-align: right;\n",
       "    }\n",
       "</style>\n",
       "<table border=\"1\" class=\"dataframe\">\n",
       "  <thead>\n",
       "    <tr style=\"text-align: right;\">\n",
       "      <th></th>\n",
       "      <th>Strain</th>\n",
       "      <th>Type</th>\n",
       "      <th>Rating</th>\n",
       "      <th>Effect1</th>\n",
       "      <th>Effect2</th>\n",
       "      <th>Effect3</th>\n",
       "      <th>Effect4</th>\n",
       "      <th>Effect5</th>\n",
       "      <th>Flavor1</th>\n",
       "      <th>Flavor2</th>\n",
       "      <th>Flavor3</th>\n",
       "      <th>Flavor4</th>\n",
       "      <th>Description</th>\n",
       "      <th>Key_words</th>\n",
       "    </tr>\n",
       "  </thead>\n",
       "  <tbody>\n",
       "    <tr>\n",
       "      <th>0</th>\n",
       "      <td>100-Og</td>\n",
       "      <td>hybrid</td>\n",
       "      <td>4.0</td>\n",
       "      <td>Creative</td>\n",
       "      <td>Energetic</td>\n",
       "      <td>Tingly</td>\n",
       "      <td>Euphoric</td>\n",
       "      <td>Relaxed</td>\n",
       "      <td>Earthy</td>\n",
       "      <td>Sweet</td>\n",
       "      <td>citrus</td>\n",
       "      <td>nan</td>\n",
       "      <td>$100 OG is a 50/50 hybrid strain that packs a ...</td>\n",
       "      <td></td>\n",
       "    </tr>\n",
       "    <tr>\n",
       "      <th>1</th>\n",
       "      <td>98-White-Widow</td>\n",
       "      <td>hybrid</td>\n",
       "      <td>4.7</td>\n",
       "      <td>Relaxed</td>\n",
       "      <td>Aroused</td>\n",
       "      <td>Creative</td>\n",
       "      <td>Happy</td>\n",
       "      <td>Energetic</td>\n",
       "      <td>floral</td>\n",
       "      <td>floral</td>\n",
       "      <td>chemical</td>\n",
       "      <td>nan</td>\n",
       "      <td>The ‘98 Aloha White Widow is an especially pot...</td>\n",
       "      <td></td>\n",
       "    </tr>\n",
       "    <tr>\n",
       "      <th>2</th>\n",
       "      <td>1024</td>\n",
       "      <td>sativa</td>\n",
       "      <td>4.4</td>\n",
       "      <td>Uplifted</td>\n",
       "      <td>Happy</td>\n",
       "      <td>Relaxed</td>\n",
       "      <td>Energetic</td>\n",
       "      <td>Creative</td>\n",
       "      <td>spice</td>\n",
       "      <td>plant</td>\n",
       "      <td>plant</td>\n",
       "      <td>nan</td>\n",
       "      <td>1024 is a sativa-dominant hybrid bred in Spain...</td>\n",
       "      <td></td>\n",
       "    </tr>\n",
       "    <tr>\n",
       "      <th>3</th>\n",
       "      <td>13-Dawgs</td>\n",
       "      <td>hybrid</td>\n",
       "      <td>4.2</td>\n",
       "      <td>Tingly</td>\n",
       "      <td>Creative</td>\n",
       "      <td>Hungry</td>\n",
       "      <td>Relaxed</td>\n",
       "      <td>Uplifted</td>\n",
       "      <td>fruity</td>\n",
       "      <td>citrus</td>\n",
       "      <td>citrus</td>\n",
       "      <td>nan</td>\n",
       "      <td>13 Dawgs is a hybrid of G13 and Chemdawg genet...</td>\n",
       "      <td></td>\n",
       "    </tr>\n",
       "    <tr>\n",
       "      <th>4</th>\n",
       "      <td>24K-Gold</td>\n",
       "      <td>hybrid</td>\n",
       "      <td>4.6</td>\n",
       "      <td>Happy</td>\n",
       "      <td>Relaxed</td>\n",
       "      <td>Euphoric</td>\n",
       "      <td>Uplifted</td>\n",
       "      <td>Talkative</td>\n",
       "      <td>citrus</td>\n",
       "      <td>Earthy</td>\n",
       "      <td>citrus</td>\n",
       "      <td>nan</td>\n",
       "      <td>Also known as Kosher Tangie, 24k Gold is a 60%...</td>\n",
       "      <td></td>\n",
       "    </tr>\n",
       "    <tr>\n",
       "      <th>...</th>\n",
       "      <td>...</td>\n",
       "      <td>...</td>\n",
       "      <td>...</td>\n",
       "      <td>...</td>\n",
       "      <td>...</td>\n",
       "      <td>...</td>\n",
       "      <td>...</td>\n",
       "      <td>...</td>\n",
       "      <td>...</td>\n",
       "      <td>...</td>\n",
       "      <td>...</td>\n",
       "      <td>...</td>\n",
       "      <td>...</td>\n",
       "      <td>...</td>\n",
       "    </tr>\n",
       "    <tr>\n",
       "      <th>2222</th>\n",
       "      <td>Zeus-Og</td>\n",
       "      <td>hybrid</td>\n",
       "      <td>4.7</td>\n",
       "      <td>Happy</td>\n",
       "      <td>Uplifted</td>\n",
       "      <td>Relaxed</td>\n",
       "      <td>Euphoric</td>\n",
       "      <td>Energetic</td>\n",
       "      <td>Earthy</td>\n",
       "      <td>plant</td>\n",
       "      <td>plant</td>\n",
       "      <td>nan</td>\n",
       "      <td>Zeus OG is a hybrid cross between Pineapple OG...</td>\n",
       "      <td></td>\n",
       "    </tr>\n",
       "    <tr>\n",
       "      <th>2223</th>\n",
       "      <td>Zkittlez</td>\n",
       "      <td>indica</td>\n",
       "      <td>4.6</td>\n",
       "      <td>Relaxed</td>\n",
       "      <td>Happy</td>\n",
       "      <td>Euphoric</td>\n",
       "      <td>Uplifted</td>\n",
       "      <td>Sleepy</td>\n",
       "      <td>Sweet</td>\n",
       "      <td>Berry</td>\n",
       "      <td>fruity</td>\n",
       "      <td>nan</td>\n",
       "      <td>Zkittlez is an indica-dominant mix of Grape Ap...</td>\n",
       "      <td></td>\n",
       "    </tr>\n",
       "    <tr>\n",
       "      <th>2224</th>\n",
       "      <td>Zombie-Kush</td>\n",
       "      <td>indica</td>\n",
       "      <td>5.0</td>\n",
       "      <td>Relaxed</td>\n",
       "      <td>Sleepy</td>\n",
       "      <td>Talkative</td>\n",
       "      <td>Euphoric</td>\n",
       "      <td>Happy</td>\n",
       "      <td>Earthy</td>\n",
       "      <td>Sweet</td>\n",
       "      <td>spice</td>\n",
       "      <td>nan</td>\n",
       "      <td>Zombie Kush by Ripper Seeds comes from two dif...</td>\n",
       "      <td></td>\n",
       "    </tr>\n",
       "    <tr>\n",
       "      <th>2225</th>\n",
       "      <td>Zombie-Og</td>\n",
       "      <td>indica</td>\n",
       "      <td>4.4</td>\n",
       "      <td>Relaxed</td>\n",
       "      <td>Sleepy</td>\n",
       "      <td>Euphoric</td>\n",
       "      <td>Happy</td>\n",
       "      <td>Hungry</td>\n",
       "      <td>Sweet</td>\n",
       "      <td>Earthy</td>\n",
       "      <td>Pungent</td>\n",
       "      <td>nan</td>\n",
       "      <td>If you’re looking to transform into a flesh-ea...</td>\n",
       "      <td></td>\n",
       "    </tr>\n",
       "    <tr>\n",
       "      <th>2226</th>\n",
       "      <td>Zoom-Pie</td>\n",
       "      <td>indica</td>\n",
       "      <td>4.6</td>\n",
       "      <td>Hungry</td>\n",
       "      <td>Relaxed</td>\n",
       "      <td>Uplifted</td>\n",
       "      <td>Happy</td>\n",
       "      <td>Sleepy</td>\n",
       "      <td>Berry</td>\n",
       "      <td>Earthy</td>\n",
       "      <td>Pungent</td>\n",
       "      <td>nan</td>\n",
       "      <td>Zoom Pie (also known as Zombie Pie) is a heavy...</td>\n",
       "      <td></td>\n",
       "    </tr>\n",
       "  </tbody>\n",
       "</table>\n",
       "<p>2227 rows × 14 columns</p>\n",
       "</div>"
      ],
      "text/plain": [
       "              Strain    Type  Rating   Effect1    Effect2    Effect3  \\\n",
       "0             100-Og  hybrid     4.0  Creative  Energetic     Tingly   \n",
       "1     98-White-Widow  hybrid     4.7   Relaxed    Aroused   Creative   \n",
       "2               1024  sativa     4.4  Uplifted      Happy    Relaxed   \n",
       "3           13-Dawgs  hybrid     4.2    Tingly   Creative     Hungry   \n",
       "4           24K-Gold  hybrid     4.6     Happy    Relaxed   Euphoric   \n",
       "...              ...     ...     ...       ...        ...        ...   \n",
       "2222         Zeus-Og  hybrid     4.7     Happy   Uplifted    Relaxed   \n",
       "2223        Zkittlez  indica     4.6   Relaxed      Happy   Euphoric   \n",
       "2224     Zombie-Kush  indica     5.0   Relaxed     Sleepy  Talkative   \n",
       "2225       Zombie-Og  indica     4.4   Relaxed     Sleepy   Euphoric   \n",
       "2226        Zoom-Pie  indica     4.6    Hungry    Relaxed   Uplifted   \n",
       "\n",
       "        Effect4    Effect5 Flavor1 Flavor2   Flavor3 Flavor4  \\\n",
       "0      Euphoric    Relaxed  Earthy   Sweet    citrus     nan   \n",
       "1         Happy  Energetic  floral  floral  chemical     nan   \n",
       "2     Energetic   Creative   spice   plant     plant     nan   \n",
       "3       Relaxed   Uplifted  fruity  citrus    citrus     nan   \n",
       "4      Uplifted  Talkative  citrus  Earthy    citrus     nan   \n",
       "...         ...        ...     ...     ...       ...     ...   \n",
       "2222   Euphoric  Energetic  Earthy   plant     plant     nan   \n",
       "2223   Uplifted     Sleepy   Sweet   Berry    fruity     nan   \n",
       "2224   Euphoric      Happy  Earthy   Sweet     spice     nan   \n",
       "2225      Happy     Hungry   Sweet  Earthy   Pungent     nan   \n",
       "2226      Happy     Sleepy   Berry  Earthy   Pungent     nan   \n",
       "\n",
       "                                            Description Key_words  \n",
       "0     $100 OG is a 50/50 hybrid strain that packs a ...            \n",
       "1     The ‘98 Aloha White Widow is an especially pot...            \n",
       "2     1024 is a sativa-dominant hybrid bred in Spain...            \n",
       "3     13 Dawgs is a hybrid of G13 and Chemdawg genet...            \n",
       "4     Also known as Kosher Tangie, 24k Gold is a 60%...            \n",
       "...                                                 ...       ...  \n",
       "2222  Zeus OG is a hybrid cross between Pineapple OG...            \n",
       "2223  Zkittlez is an indica-dominant mix of Grape Ap...            \n",
       "2224  Zombie Kush by Ripper Seeds comes from two dif...            \n",
       "2225  If you’re looking to transform into a flesh-ea...            \n",
       "2226  Zoom Pie (also known as Zombie Pie) is a heavy...            \n",
       "\n",
       "[2227 rows x 14 columns]"
      ]
     },
     "execution_count": 2,
     "metadata": {},
     "output_type": "execute_result"
    }
   ],
   "source": [
    "#read in csv as a dataframe\n",
    "df = pd.read_csv(\"cannabiscuratedbinned.csv\")\n",
    "\n",
    "#clean up and check column names\n",
    "df = df[['Strain','Type','Rating','Effect1','Effect2','Effect3','Effect4','Effect5','Flavor1','Flavor2','Flavor3','Flavor4','Description']]\n",
    "df.head()\n",
    "print(list(df.columns))\n",
    "\n",
    "df[[\"Description\",'Strain','Type','Effect1','Effect2','Effect3','Effect4','Effect5','Flavor1','Flavor2','Flavor3','Flavor4']] = df[[\"Description\",'Strain','Type','Effect1','Effect2','Effect3','Effect4','Effect5','Flavor1','Flavor2','Flavor3','Flavor4']].astype(str)\n",
    "\n",
    "#initializing new column\n",
    "df['Key_words'] = \"\"\n",
    "\n",
    "df.loc[:, (df != 0).any(axis=0)]\n"
   ]
  },
  {
   "cell_type": "code",
   "execution_count": 7,
   "id": "ee1c9756",
   "metadata": {},
   "outputs": [
    {
     "name": "stderr",
     "output_type": "stream",
     "text": [
      "[nltk_data] Downloading package stopwords to /Users/esha/nltk_data...\n",
      "[nltk_data]   Package stopwords is already up-to-date!\n",
      "[nltk_data] Downloading package punkt to /Users/esha/nltk_data...\n",
      "[nltk_data]   Unzipping tokenizers/punkt.zip.\n"
     ]
    },
    {
     "data": {
      "text/plain": [
       "True"
      ]
     },
     "execution_count": 7,
     "metadata": {},
     "output_type": "execute_result"
    }
   ],
   "source": []
  },
  {
   "cell_type": "markdown",
   "id": "5b513284",
   "metadata": {},
   "source": [
    "### Extract Keywords using Rake"
   ]
  },
  {
   "cell_type": "code",
   "execution_count": 10,
   "id": "1e3be6bc",
   "metadata": {},
   "outputs": [],
   "source": [
    "for index, row in df.iterrows():\n",
    "    desc = row['Description']\n",
    "    \n",
    "    r = Rake()\n",
    "    \n",
    "    #pulling keywords from strain description\n",
    "    r.extract_keywords_from_text(desc)\n",
    "    \n",
    "    #getting dictionary with key words as keys and scores as values\n",
    "    key_words_dict_scores = r.get_word_degrees()\n",
    "    \n",
    "    #assigning key words to a new column for corresponding strain\n",
    "    row['Key_words'] =  list(key_words_dict_scores.keys())"
   ]
  },
  {
   "cell_type": "code",
   "execution_count": 11,
   "id": "7b773292",
   "metadata": {},
   "outputs": [],
   "source": [
    "#dropping description and ratings columns\n",
    "df.drop(columns = ['Description'], inplace = True)\n",
    "df.drop(columns = ['Rating'], inplace = True)\n",
    "df.drop(columns = ['Flavor4'], inplace = True)"
   ]
  },
  {
   "cell_type": "markdown",
   "id": "9faef370",
   "metadata": {},
   "source": [
    "### Build bag of words model"
   ]
  },
  {
   "cell_type": "code",
   "execution_count": 12,
   "id": "f50cbcc7",
   "metadata": {},
   "outputs": [],
   "source": [
    "df['bag_of_words'] = df['Type']+df['Effect1']+df['Effect2']+df['Effect3']+df['Effect4']+df['Effect5']+df['Flavor1']+df['Flavor2']+df['Flavor3']+df['Key_words']\n"
   ]
  },
  {
   "cell_type": "code",
   "execution_count": 13,
   "id": "a2138918",
   "metadata": {},
   "outputs": [],
   "source": [
    "#generating the count matrix\n",
    "count = CountVectorizer(analyzer ='char_wb',ngram_range=(2,3))\n",
    "count_matrix = count.fit_transform(df['bag_of_words'])\n",
    "count_matrix_2 = count_matrix.toarray()"
   ]
  },
  {
   "cell_type": "code",
   "execution_count": 15,
   "id": "14bdba5c",
   "metadata": {},
   "outputs": [
    {
     "data": {
      "text/plain": [
       "[' t',\n",
       " 'th',\n",
       " 'hi',\n",
       " 'is',\n",
       " 's ',\n",
       " ' th',\n",
       " 'thi',\n",
       " 'his',\n",
       " 'is ',\n",
       " ' i',\n",
       " 'is',\n",
       " 's ',\n",
       " ' is',\n",
       " 'is ',\n",
       " ' m',\n",
       " 'my',\n",
       " 'y ',\n",
       " ' my',\n",
       " 'my ',\n",
       " ' a',\n",
       " 'an',\n",
       " 'na',\n",
       " 'al',\n",
       " 'ly',\n",
       " 'yz',\n",
       " 'ze',\n",
       " 'er',\n",
       " 'r ',\n",
       " ' an',\n",
       " 'ana',\n",
       " 'nal',\n",
       " 'aly',\n",
       " 'lyz',\n",
       " 'yze',\n",
       " 'zer',\n",
       " 'er ',\n",
       " ' t',\n",
       " 'te',\n",
       " 'es',\n",
       " 'st',\n",
       " 't ',\n",
       " ' te',\n",
       " 'tes',\n",
       " 'est',\n",
       " 'st ']"
      ]
     },
     "execution_count": 15,
     "metadata": {},
     "output_type": "execute_result"
    }
   ],
   "source": [
    "#obesrving how the analyzer works\n",
    "analyze = count.build_analyzer()\n",
    "analyze('This is my analyzer test')"
   ]
  },
  {
   "cell_type": "code",
   "execution_count": 16,
   "id": "738a2bc1",
   "metadata": {},
   "outputs": [
    {
     "data": {
      "text/plain": [
       "('Diagonal (sum): ', 2227.000000000001)"
      ]
     },
     "execution_count": 16,
     "metadata": {},
     "output_type": "execute_result"
    }
   ],
   "source": [
    "#generate cosine similarity matrix\n",
    "cosine_sim = cosine_similarity(count_matrix,count_matrix)\n",
    "\n",
    "#sanity check -- trace of the similarity matrix is number of strains\n",
    "'Diagonal (sum): ', np.trace(cosine_sim)"
   ]
  },
  {
   "cell_type": "code",
   "execution_count": 17,
   "id": "a665c2be",
   "metadata": {},
   "outputs": [],
   "source": [
    "#create a series for the series for strain titles so they're ordered numerically \n",
    "indices = pd.Series(df.index)\n"
   ]
  },
  {
   "cell_type": "code",
   "execution_count": 18,
   "id": "44c459b8",
   "metadata": {},
   "outputs": [],
   "source": [
    "#define function that takes strain index as input and returns top 10 strain recommendations\n",
    "def recommendations(title, cosine_sim = cosine_sim):\n",
    "    \n",
    "    # initializing the empty list of recommended movies\n",
    "    recommended_strains = []\n",
    "    \n",
    "    # gettin the index of the movie that matches the title\n",
    "    idx = indices[indices == title].index[0]\n",
    "\n",
    "    # creating a Series with the similarity scores in descending order\n",
    "    score_series = pd.Series(cosine_sim[idx]).sort_values(ascending = False)\n",
    "\n",
    "    # getting the indexes of the 10 most similar movies\n",
    "    top_10_indexes = list(score_series.iloc[1:11].index)\n",
    "    \n",
    "    # populating the list with the titles of the best 10 matching movies\n",
    "    for i in top_10_indexes:\n",
    "        recommended_strains.append(list(df.index)[i])\n",
    "        \n",
    "    return recommended_strains"
   ]
  },
  {
   "cell_type": "code",
   "execution_count": 20,
   "id": "63f92e5c",
   "metadata": {},
   "outputs": [
    {
     "name": "stdout",
     "output_type": "stream",
     "text": [
      "Lemon-Diesel\n",
      "Orange-Diesel\n",
      "Sour-Lemon-Og\n",
      "Grapefruit-Diesel\n",
      "Kali-Dog\n",
      "Orange-Crush\n",
      "Tahoe-Hydro-Champagne\n",
      "Pagoda\n",
      "Love-Potion\n",
      "Citrix\n"
     ]
    }
   ],
   "source": [
    "#sample call to recommender     \n",
    "recs = recommendations(1424) #strain 1424 is OG Sour Diesel\n",
    "\n",
    "#printing the top 10 strains\n",
    "for i in recs: \n",
    "    print(df.loc[i]['Strain'])"
   ]
  },
  {
   "cell_type": "code",
   "execution_count": null,
   "id": "997df2f2",
   "metadata": {},
   "outputs": [],
   "source": []
  }
 ],
 "metadata": {
  "kernelspec": {
   "display_name": "Python 3 (ipykernel)",
   "language": "python",
   "name": "python3"
  },
  "language_info": {
   "codemirror_mode": {
    "name": "ipython",
    "version": 3
   },
   "file_extension": ".py",
   "mimetype": "text/x-python",
   "name": "python",
   "nbconvert_exporter": "python",
   "pygments_lexer": "ipython3",
   "version": "3.9.7"
  }
 },
 "nbformat": 4,
 "nbformat_minor": 5
}
